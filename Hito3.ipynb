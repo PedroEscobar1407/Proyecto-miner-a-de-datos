{
  "cells": [
    {
      "cell_type": "markdown",
      "metadata": {},
      "source": [
        "# Hito 3 - Analisis de Datos de MyAnimeList. \n",
        "### Proyecto Minería de Datos.\n",
        "\n",
        "Integrantes (Grupo \"Herobrines\"):\n",
        "- Amaro Zurita\n",
        "- Javier Facondi\n",
        "- Marco Martinez\n",
        "- Mario Fuentes\n",
        "- Pedro Escobar"
      ]
    },
    {
      "cell_type": "markdown",
      "metadata": {},
      "source": [
        "---"
      ]
    },
    {
      "cell_type": "markdown",
      "metadata": {
        "id": "UUCb08fHs68x"
      },
      "source": [
        "\n",
        "## 1. Introducción.\n",
        "\n",
        "**Problema y motivación**.\n",
        "\n",
        "  La industria del anime enfrenta grandes desafíos en la producción de nuevo contenido. Los consumidores de todo el mundo tienen una gran cantidad de géneros, estilos y temas disponibles, por ello, a medida que la popularidad del anime aumenta alrededor del mundo también aumentan y se diversifican los factores que influyen en el éxito de un anime específico. El problema está en identificar y seleccionar el conjunto de factores adecuados para un proyecto, que aseguren un éxito mínimo y minimicen el riesgo financiero.\n",
        "\n",
        "  Con el aumento de las plataformas de Streaming y lo fácil que es acceder al anime hoy en día, entender los factores que influyen en su éxito es cada vez más relevante. La industria del anime es multimillonaria, y encontrar la “receta” que permita optimizar la producción puede tener implicaciones económicas clave. Por lo tanto, nuestro objetivo se centra en estudiar patrones y tendencias para extraer información que puede ayudar a los estudios de animación a producir contenido más atractivo e innovador asegurando el crecimiento dentro de la industria. Asimismo, ayudar también a las plataformas de Streaming a invertir en contenido que maximice la satisfacción de sus usuarios.\n",
        "\n"
      ]
    },
    {
      "cell_type": "markdown",
      "metadata": {},
      "source": [
        "---"
      ]
    },
    {
      "cell_type": "markdown",
      "metadata": {},
      "source": [
        "\n",
        "## 2. Exploración de datos.\n",
        "\n",
        "El dataset utilizado para el estudio fue \"AnimeList.csv\" desde la plataforma Kaggle ([MyAnimeList Dataset](https://www.kaggle.com/datasets/azathoth42/myanimelist)), destacamos que existían tres versiones del mismo dataset, la original sin modificaciones, una \"filtered\" y una \"cleaned\", se decidió utilizar la version original ya que permitió mayor control sobre el filtrado de datos.\n",
        "\n",
        "La exploración inicial del dataset nos permitió limpiar y preparar los datos, asegurando que sean adecuados para el análisis posterior. Sobre los nuevos datos se extrajo información sobre la distribución de puntuaciones, la popularidad de distintos géneros y la relación entre factores como la popularidad de un anime y su ranking. A continuación, se desarrollan los puntos anteriores, presentando gráficos y una explicación más detallada de lo observado. **El Código de limpieza y generación de gráficos se encuentra en el Anexo**.\n",
        "\n",
        "* Lo primero que notamos en el dataset fue la existencia de animés inconclusos, algunos en emisión y otros que aún no se emiten (\"Currently Aiming\" y \"Not yet aired\" respectivamente), como las estadísticas de estos productos puede variar a través del tiempo, decidimos eliminarlos de nuestro análisis, ya que sus atributos pueden no ser representativos.\n",
        "\n",
        "  A continuación se muestra el estado inicial de los animés, nosotros trabajaremos solo con los animés en estado “Finished Airing” que en español significa “Emisión Finalizada”, estos representan aproximadamente el 95.2% de datos del dataset.\n",
        "  <div style=\"text-align: center;\">\n",
        "    <img src=\"imagenes/estados.png\" alt=\"Estado de los animés\" width=\"500\"/>\n",
        "  </div>"
      ]
    },
    {
      "cell_type": "markdown",
      "metadata": {
        "id": "VJcXKoQuEXHO"
      },
      "source": [
        "* También notamos que en MyAnimeList los géneros de los animés se dan según su concidencia con los mismos, por lo tanto, ningún anime pertenece a un único género. Para facilitar el manejo de los datos, seleccionamos los dos géneros de mayor concidencia, eliminamos todo lo relacionado al género “Hentai” y productos que contengan solo 1 capítulo (OVA, ONA, películas, especiales) que podían generar ruido en los resultados.\n",
        "\n",
        "  A continuación mostramos un gráfico con las 10 combinaciones de géneros más comunes.\n",
        "\n",
        "  Notemos que acción, comedia y aventura son los géneros que se ubican en los tres primeros puestos, lo que nos entrega un vistazo inicial de los géneros favoritos o más comerciales.\n",
        "  Debemos destacar el género comedia, que se encuentra en 7 de las 10 combinaciones más comunes.\n",
        "\n",
        "  <div style=\"text-align: center;\">\n",
        "    <img src=\"imagenes/generos1.png\" alt=\"Géneros más comunes\" width=\"600\"/>\n",
        "  </div>\n"
      ]
    },
    {
      "cell_type": "markdown",
      "metadata": {},
      "source": [
        "* Complementando el gráfico anterior, se calculó la cantidad promedio de episodios por género.\n",
        "\n",
        "  Observamos que no existe ninguna concidencia entre las 10 combinaciones de géneros con más episodios en promedio y las 10 más comunes, en un comienzo, esto podría implicar que los animés con más capítulos, no necesariamente son los más comunes o vistos, sin embargo, creemos que estas son conclusiones muy apresuradas, por lo tanto, es un punto interesante a analizar.\n",
        "\n",
        "  <div style=\"text-align: center;\">\n",
        "    <img src=\"imagenes/generos2.png\" alt=\"Cantidad promedio de episodios por género\" width=\"600\"/>\n",
        "  </div>"
      ]
    },
    {
      "cell_type": "markdown",
      "metadata": {},
      "source": [
        "* A continuación presentamos un histograma que nos permite visualizar como se distribuyen las puntuaciones entre los animés.\n",
        "\n",
        "  Observamos que la mayoria de los animés tienen puntuaciones entre 5 y 8, con un pico notable entre 6 y 7. Este gráfico es clave, ya que analizar las características de los animés fuera de los rangos comunes, ya sea con puntuación bajo o arriba del promedio nos puede entregar información sobre las malas y buenas combinaciones de atributos a la hora de construir un anime.\n",
        "\n",
        "  <div style=\"text-align: center;\">\n",
        "    <img src=\"imagenes/puntajes.png\" alt=\"Distribución de puntajes\" width=\"600\"/>\n",
        "  </div>"
      ]
    },
    {
      "cell_type": "markdown",
      "metadata": {},
      "source": [
        "* Nuestro siguiente punto explora la relación de dos atributos, más especificamente la popularidad de una anime y su ranking (la posición 0 es la mejor), Normalmente los animés más populares tienden a recibir puntajes más altos, por lo tanto el gráfico muestra un comportamiento esperado.\n",
        "\n",
        "  ¿Por qué decimos que es un comportamiento esperado?\n",
        "    - Los animés populares tienen más audiencia y, por lo tanto, más personas que votan y califican.\n",
        "    - Los animés populares a menudo tienen mayores presupuestos y mejores equipos de producción, lo que puede implicar mayor calidad visual, narrativa y técnica.\n",
        "\n",
        "    <div style=\"text-align: center;\">\n",
        "        <img src=\"imagenes/popularidad.png\" alt=\"Popularidad vs Ranking\" width=\"600\"/>\n",
        "    </div>"
      ]
    },
    {
      "cell_type": "markdown",
      "metadata": {},
      "source": [
        "---"
      ]
    },
    {
      "cell_type": "markdown",
      "metadata": {},
      "source": [
        "\n",
        "\n",
        "## 3. Preguntas y problemas.\n",
        "\n",
        "En busca de mejorar las preguntas planteadas anteriormente, se desarrollaron preguntas más específicas, mejor planteadas y con un objetivo más claro, estás son:\n",
        "1. ¿Qué características de un anime (género, estudio de animación, número de episodios) son más predictivas de una alta puntuación (mayor a 8) en MyAnimeList? \n",
        "2. ¿Existirá la posibilidad de predecir el estudio de animación con ciertas características de un anime?\n",
        "3. ¿Existen patrones temporales (meses o años) en los que se lancen más animés de alta calidad (puntuación > 8)?\n",
        "\n",
        "Las preguntas 1 y 3 utilizan como umbral de puntuación la puntuación de 8,\n",
        "la elección de de este valor como criterio de alta calidad se basa en revisar cómo se distribuyen las notas de los animés en MyAnimeList. Al analizar los datos, notamos que la distribución presenta una forma gaussiana, donde la mayoría de los animés reciben notas entre 5 y 8, mientras que un número significativamente menor obtienen puntuaciones mayores a 8. Esto sugiere que una nota de 8 o más puede considerarse un buen indicador de calidad, ya que hay muy pocos que llegan a ese nivel. Utilizar este punto de corte nos ayuda a comparar y predecir mejor qué características hacen que los usuarios consideren positivamente un anime en la plataforma.\n",
        "\n",
        "La pregunta 2 se centra en explorar la posibilidad de predecir el estudio de animación responsable de un anime utilizando ciertas características del mismo. Esto implica investigar si atributos como el género, la duración, el número de episodios o incluso la puntuación y la popularidad del anime podrían poseer patrones sobre qué estudio de animación lo produjo. Si bien este enfoque busca comprender la influencia del estudio de animación en la calidad y recepción del anime, también debería ser posible predecir otros atributos clave en función de las carácteristicas.\n",
        "\n",
        "\n",
        "\n",
        "\n",
        "\n"
      ]
    },
    {
      "cell_type": "markdown",
      "metadata": {},
      "source": [
        "---"
      ]
    },
    {
      "cell_type": "markdown",
      "metadata": {},
      "source": [
        "## 4. Propuesta metodológica experimental inicial."
      ]
    },
    {
      "cell_type": "markdown",
      "metadata": {},
      "source": [
        "1. **¿Qué características de un anime (género, estudio de animación, número de episodios) son más predictivas de una alta puntuación (mayor a 8) en MyAnimeList?** :\n",
        "\n",
        "    **Objetivos**:\n",
        "    1. Identificar las características del anime que están asociadas con puntuaciones altas.\n",
        "    2. Evaluar la importancia relativa de cada característica en la predicción de puntuaciones altas.\n",
        "    3. Desarrollar un modelo predictivo que pueda utilizarse para anticipar la puntuación de un anime basado en sus características.\n",
        "\n",
        "    **Metodología**:\n",
        "\n",
        "    1. Recolección y Preprocesamiento de Datos\n",
        "        - **Codificación de Variables Categóricas**: Convertir las variables categóricas (género y estudio de animación) a variables numéricas utilizando LabelEncoder.\n",
        "        - **Normalizar variables**: Evaluar la necesidad de normalizar variables numéricas como el número de episodios.\n",
        "\n",
        "    2. Selección de Características\n",
        "        - **Características Seleccionadas**: Género codificado (genre_encoded), estudio de animación codificado (studio_encoded), y número de episodios (episodes).\n",
        "\n",
        "    3. Definición de la Variable Objetivo\n",
        "        - **Variable Objetivo**: Crear una variable binaria (high_score) que tome el valor de 1 si la puntuación del anime es mayor a 8, y 0 en caso contrario.\n",
        "\n",
        "    4. Entrenamiento del Modelo\n",
        "        - **Modelo Seleccionado**: Utilizar un distintos modelos (DecisionTreeClassifier, RandomForest, GradientBoosting) para la predicción.\n",
        "        - **Conjunto de Entrenamiento y Prueba**: Dividir los datos en conjuntos de entrenamiento y prueba para la validación del modelo.\n",
        "\n",
        "    5. Validación y Evaluación del Modelo\n",
        "        - Cada modelo fue ajustado utilizando los datos de entrenamiento y se evaluó su desempeño viendo las medidas en los reportes de clasificación respectivos.\n",
        "\n",
        "    6. Importancia de Características\n",
        "        - **Cálculo de Importancias**: Obtener las importancias de las características del modelo utilizando el atributo feature_importances_ del DecisionTreeClassifier, RandomForest y GradientBoosting.\n",
        "        - **Análisis de Resultados**: Analizar las importancias de las características para determinar cuál de ellas es más significativa en la predicción de puntuaciones altas.\n",
        "\n",
        "\n",
        "2. **¿Existirá la posibilidad de predecir el estudio de animación con ciertas características de un anime?**:\n",
        "\n",
        "    **Objetivos**:\n",
        "    1. Determinar si es posible predecir el estudio de animación basado en características específicas del anime.\n",
        "    2. Desarrollar un modelo predictivo para anticipar el estudio de animación de un anime basado en sus características.\n",
        "\n",
        "    **Metodología**:\n",
        "    \n",
        "    1. **Recolección y Preprocesamiento de Datos**\n",
        "        - Filtrado de Estudios: Filtrar los datos para incluir únicamente los top 10 estudios con más animés, para asegurar una cantidad suficiente de instancias y mejorar la precisión del modelo.\n",
        "        - Transformación de Variables Categóricas: Convertir las variables categóricas en la columna 'type' a variables numéricas.\n",
        "        - Conversión de Duración: Transformar la columna 'duration' de string a valores numéricos (int).\n",
        "        - Codificación de la Variable Objetivo: Crear un vector que contenga los valores de la columna 'studio' y eliminar esta columna del DataFrame.\n",
        "\n",
        "    2. **Selección de Características**\n",
        "        - Características Seleccionadas: title, score, genre, type, episode, duration, scored_by, rank, popularity y members.\n",
        "\n",
        "    3. **Definición de la Variable Objetivo**\n",
        "        - Variable Objetivo: La variable \"y\" contendrá los valores del estudio de animación (studio).\n",
        "\n",
        "    4. **Entrenamiento del Modelo**\n",
        "        - Preparación de Datos: Generar un nuevo DataFrame con todos los valores transformados a numéricos (int).\n",
        "        - Balanceo de Clases: Aplicar técnicas de oversampling en los datos de entrenamiento para balancear las clases.\n",
        "        - Modelo Seleccionado: Utilizar modelos adecuados para la predicción (como DecisionTreeClassifier u otro modelo de clasificación).\n",
        "\n",
        "    5. **Validación y Evaluación del Modelo**\n",
        "        - Conjunto de Entrenamiento y Prueba: Dividir los datos en conjuntos de entrenamiento y prueba para la validación del modelo.\n",
        "        - Métricas de Evaluación: Utilizar las métricas F1, recall, precision y accuracy para evaluar el rendimiento del modelo.\n",
        "\n",
        "\n",
        "3. **¿Existen patrones temporales (meses o años) en los que se lancen más animés de alta calidad (puntuación > 8)?**:\n",
        "\n",
        "    **Objetivos**:\n",
        "    1. Identificar si existen patrones temporales en los lanzamientos de animés con puntuaciones mayores a 8.\n",
        "    2. Evaluar la distribución de animés de alta calidad a lo largo de las diferentes temporadas y años.\n",
        "    3. Utilizar técnicas de clustering para descubrir agrupamientos naturales de animés de alta calidad basados en sus fechas de lanzamiento.\n",
        "\n",
        "    **Metodología**:\n",
        "\n",
        "    1. Recolección y Preprocesamiento de Datos\n",
        "        - **Limpieza de Datos**: Eliminar registros con puntuaciones no válidas y filtrar los animés que aún no han finalizado su emisión.\n",
        "        - **Conversión de Fechas**: Convertir las fechas de lanzamiento de los animés a un formato de fecha estándar y extraer las temporadas (invierno, primavera, verano, otoño) y los años de lanzamiento.\n",
        "        - **Codificación de Variables Categóricas**: Codificar las temporadas utilizando un codificador de etiquetas para convertirlas en variables numéricas.\n",
        "\n",
        "    2. Análisis Exploratorio\n",
        "        - **Distribución Temporal de animés de Alta Calidad**: Analizar la distribución de animés con puntuaciones mayores a 8 en función de las temporadas y los años. Esto incluye calcular cuántos animés de alta calidad se lanzaron en cada temporada y año.\n",
        "\n",
        "    3. Clustering\n",
        "        - **Preparación de Datos para Clustering**: Seleccionar características relevantes como la temporada codificada y el año de lanzamiento.\n",
        "        - **Aplicación de distintos métodos**: Aplicar el algoritmo de clustering K-means, Agglomerative y DBSCAN para identificar grupos naturales en los datos. Estas técnica ayudarán a descubrir agrupamientos basados en las fechas de lanzamiento de los animés de alta calidad.\n",
        "\n",
        "    4. Análisis de Resultados\n",
        "        - **Interpretación de Clusters**: Analizar la composición de cada cluster para identificar patrones temporales significativos en los lanzamientos de animés de alta calidad. Esto incluye evaluar qué temporadas y años predominan en cada cluster y comparar las puntuaciones promedio dentro de cada grupo."
      ]
    },
    {
      "cell_type": "markdown",
      "metadata": {},
      "source": [
        "---\n",
        "## 5. Experimentación y resultados.\n"
      ]
    },
    {
      "cell_type": "markdown",
      "metadata": {},
      "source": [
        "## Pregunta 1:\n",
        "\n",
        "**¿Qué características de un anime (género, estudio de animación, número de episodios) son más predictivas de una alta puntuación (mayor a 8) en MyAnimeList?**:\n",
        "\n",
        "Primero, importamos todas las librerías y módulos necesarios para la manipulación de datos, visualización, preprocesamiento, construcción y evaluación de modelos. Utilizamos pandas para trabajar con los datos, matplotlib.pyplot para la visualización, LabelEncoder y StandardScaler para el preprocesamiento, y varios clasificadores y herramientas de evaluación de sklearn para los modelos de aprendizaje automático. (**_Código en Anexo: 1 y 6.1_**)"
      ]
    },
    {
      "cell_type": "markdown",
      "metadata": {},
      "source": [
        "A continuación, preparamos los datos. Primero, creamos una copia del DataFrame original para evitar advertencias. Luego, codificamos las variables categóricas genre y studio usando LabelEncoder. Después, normalizamos la columna episodes utilizando StandardScaler. Finalmente, definimos la variable objetivo high_score como una columna binaria que indica si el score es mayor a 8. (**_Código en Anexo: 6.2_**)"
      ]
    },
    {
      "cell_type": "markdown",
      "metadata": {},
      "source": [
        "Para continuar, seleccionamos las características relevantes para el modelo (genre_encoded, studio_encoded, normalized_episodes) y las almacenamos en X. La variable objetivo high_score se almacena en y. Luego, dividimos el conjunto de datos en entrenamiento y prueba con una proporción del 30% para prueba, usando train_test_split. (**_Código en Anexo: 6.3_**)"
      ]
    },
    {
      "cell_type": "markdown",
      "metadata": {},
      "source": [
        "Posteriormente, entrenamos un modelo de Árbol de Decisión (DecisionTreeClassifier) usando los datos de entrenamiento y realizamos predicciones sobre los datos de prueba. Imprimimos un reporte de clasificación para evaluar el desempeño del modelo. Además, visualizamos el árbol de decisión utilizando plot_tree. Finalmente, calculamos y mostramos las importancias de las características. (**_Código en Anexo: 6.4_**)"
      ]
    },
    {
      "cell_type": "markdown",
      "metadata": {},
      "source": [
        "<div style=\"text-align: center;\">\n",
        "    <img src=\"imagenes/decisionTree.png\" alt=\"Géneros más comunes\" width=\"600\"/>\n",
        "</div>"
      ]
    },
    {
      "cell_type": "markdown",
      "metadata": {},
      "source": [
        "\n",
        "**Estadisticas en Test Set de DecisionTreeClassifier**\n",
        "\n",
        "|                  | precision | recall | f1-score | support |\n",
        "|------------------|-----------|--------|----------|---------|\n",
        "| 0                | 0.96      | 0.95   | 0.95     | 1835    |\n",
        "| 1                | 0.23      | 0.25   | 0.24     | 109     |\n",
        "| accuracy         |           |        | 0.91     | 1944    |\n",
        "| macro avg        | 0.59      | 0.60   | 0.59     | 1944    |\n",
        "| weighted avg     | 0.91      | 0.91   | 0.91     | 1944    |"
      ]
    },
    {
      "cell_type": "markdown",
      "metadata": {},
      "source": [
        "**Importancia de Características**\n",
        "\n",
        "| Característica         | Importancia |\n",
        "|------------------------|-------------|\n",
        "| genre_encoded          | 0.5667      |\n",
        "| studio_encoded         | 0.2846      |\n",
        "| normalized_episodes    | 0.1486      |"
      ]
    },
    {
      "cell_type": "markdown",
      "metadata": {},
      "source": [
        "Luego, entrenamos un modelo de Random Forest (RandomForestClassifier) y evaluamos su desempeño en los datos de prueba. Imprimimos el reporte de clasificación y calculamos las importancias de las características para el modelo de Random Forest. (**_Código en Anexo: 6.5_**)"
      ]
    },
    {
      "cell_type": "markdown",
      "metadata": {},
      "source": [
        "**Estadisticas en Test Set de RandomForestClassifier**\n",
        "\n",
        "|                  | precision | recall | f1-score | support |\n",
        "|------------------|-----------|--------|----------|---------|\n",
        "| 0                | 0.95      | 1.00   | 0.97     | 1835    |\n",
        "| 1                | 0.61      | 0.13   | 0.21     | 109     |\n",
        "| accuracy         |           |        | 0.95     | 1944    |\n",
        "| macro avg        | 0.78      | 0.56   | 0.59     | 1944    |\n",
        "| weighted avg     | 0.93      | 0.95   | 0.93     | 1944    |"
      ]
    },
    {
      "cell_type": "markdown",
      "metadata": {},
      "source": [
        "**Importancia de Características**\n",
        "\n",
        "| Característica         | Importancia |\n",
        "|------------------------|-------------|\n",
        "| genre_encoded          | 0.4986      |\n",
        "| studio_encoded         | 0.3204      |\n",
        "| episodes               | 0.1811      |"
      ]
    },
    {
      "cell_type": "markdown",
      "metadata": {},
      "source": [
        "Finalmente, entrenamos un modelo de Gradient Boosting (GradientBoostingClassifier). Después de entrenar el modelo, realizamos predicciones en los datos de prueba y se imprime el reporte de clasificación. También obtenemos y mostramos las importancias de las características para el modelo de Gradient Boosting. (**_Código en Anexo: 6.6_**)"
      ]
    },
    {
      "cell_type": "markdown",
      "metadata": {},
      "source": [
        "**Estadisticas en Test Set de GradientBoostingClassifier**\n",
        "\n",
        "|                  | precision | recall | f1-score | support |\n",
        "|------------------|-----------|--------|----------|---------|\n",
        "| 0                | 0.94      | 1.00   | 0.97     | 1835    |\n",
        "| 1                | 0.20      | 0.02   | 0.03     | 109     |\n",
        "| accuracy         |           |        | 0.94     | 1944    |\n",
        "| macro avg        | 0.57      | 0.51   | 0.50     | 1944    |\n",
        "| weighted avg     | 0.90      | 0.94   | 0.92     | 1944    |\n",
        "\n",
        "\n"
      ]
    },
    {
      "cell_type": "markdown",
      "metadata": {},
      "source": [
        "**Importancia de Características**\n",
        "\n",
        "| Característica         | Importancia |\n",
        "|------------------------|-------------|\n",
        "| genre_encoded          | 0.4613      |\n",
        "| studio_encoded         | 0.3093      |\n",
        "| episodes               | 0.2294      |"
      ]
    },
    {
      "cell_type": "markdown",
      "metadata": {},
      "source": [
        "Los modelos lograron una alta precisión en la precisión general de las predicciones, pero no fueron tan efectivos en otros aspectos importantes. El árbol de decisión destacó por su capacidad para identificar correctamente animés con puntuaciones altas (mayores a 8).\n",
        "\n",
        "Intentamos mejorar la capacidad de los modelos para identificar estos animés utilizando una técnica llamada SMOTE, que ayuda a equilibrar las clases en los datos de entrenamiento. Sin embargo, aunque logramos mejorar la identificación de animés con altas puntuaciones, esto vino acompañado de una reducción en la precisión de las predicciones.\n",
        "\n",
        "Esto sugiere que predecir qué animés tendrán altas puntuaciones basándose solo en las características analizadas es más complicado de lo que pensábamos. Esto podría deberse a que las preferencias de los usuarios en sitios como MyAnimeList son muy variadas y subjetivas, lo que dificulta las predicciones precisas.\n",
        "\n",
        "A pesar de estos desafíos, al analizar qué características fueron más influyentes en los modelos, observamos un patrón consistente: el género del anime fue el factor más importante para predecir si una serie tendría una puntuación alta, seguido del estudio que la produjo y, en tercer lugar, la cantidad de episodios."
      ]
    },
    {
      "cell_type": "markdown",
      "metadata": {},
      "source": [
        "## Pregunta 2:\n",
        "\n",
        "**¿Existirá la posibilidad de predecir el estudio de animación con ciertas características de un anime?**:\n",
        "\n",
        "Primero nos aseguramos de importar todas las librerias que vamos a usar en la experimentación de nuestra pregunta. Luego, se cargan los datos originales del archivo AnimeList.csv y se eliminan columnas innecesarias para simplificar el dataset. (**_Código en Anexo: 7.1_**)"
      ]
    },
    {
      "cell_type": "markdown",
      "metadata": {},
      "source": [
        "Se define y aplica una función para limitar los géneros de cada anime a los dos principales. Luego filtramos los datos para incluir solo animés con puntuación mayor a cero, que hayan terminado de emitirse, que tengan más de un episodio y que no pertenezcan al género 'Hentai'. (**_Código en Anexo: 1_**)"
      ]
    },
    {
      "cell_type": "markdown",
      "metadata": {},
      "source": [
        "Luego, debemos limpiar los datos y/o filtrar los datos como explicamos, acá lo que hacemos es elegir el top 10 de estudios, con el fin de ver como se comporta nuestro modelo al intentar predecir los 10 estudios con más instancias, elegimos los 10 estudios porque sentimos que es un número de clases aceptable a predecir, luego transformamos las variables categóricas de la columna type a variables numéricas. (**_Código en Anexo: 7.2_**)"
      ]
    },
    {
      "cell_type": "markdown",
      "metadata": {},
      "source": [
        "Para transformar a minutos las columnas de duration, creamos una funcion que ocupa expresiones regulares para detectar cuando lee \"hr\" operar el int como una hora y transformarlo a minutos, caso contrario cuando lee \"min\" simplemente opera como minutos. (**_Código en Anexo: 7.3_**)"
      ]
    },
    {
      "cell_type": "markdown",
      "metadata": {},
      "source": [
        "Con esta función ya creada, debemos terminar de transformar toda la columna \"duration\" a variables numéricas y hacemos un drop a los nan que queden, finalmente creamos el vector Y con la columna \"studio\" y dropeamos \"studio\" del dataset X. (**_Código en Anexo: 7.4_**)"
      ]
    },
    {
      "cell_type": "markdown",
      "metadata": {},
      "source": [
        "Ahora vamos a preparar los conjuntos de entrenamiento y de testing. (**_Código en Anexo: 7.5_**)"
      ]
    },
    {
      "cell_type": "markdown",
      "metadata": {},
      "source": [
        "Finalmente usamos varios algoritmos de clasificación para ver como se comportan y cuales son sus métricas. (**_Código en Anexo: 7.6_**)"
      ]
    },
    {
      "cell_type": "markdown",
      "metadata": {},
      "source": [
        "**Estadisticas en Test Set de DecisionTreeClassifier**\n",
        "\n",
        "|                    | precision | recall | f1-score | support |\n",
        "|--------------------|-----------|--------|----------|---------|\n",
        "| J.C.Staff          | 0.28      | 0.24   | 0.26     | 42      |\n",
        "| Madhouse           | 0.10      | 0.09   | 0.09     | 34      |\n",
        "| Nippon Animation   | 0.25      | 0.29   | 0.27     | 31      |\n",
        "| Production I.G     | 0.14      | 0.13   | 0.14     | 23      |\n",
        "| Studio Deen        | 0.09      | 0.08   | 0.08     | 36      |\n",
        "| Studio Pierrot     | 0.07      | 0.07   | 0.07     | 28      |\n",
        "| Sunrise            | 0.30      | 0.37   | 0.33     | 52      |\n",
        "| TMS Entertainment  | 0.16      | 0.15   | 0.15     | 20      |\n",
        "| Tatsunoko Production | 0.06   | 0.05   | 0.05     | 21      |\n",
        "| Toei Animation     | 0.28      | 0.28   | 0.28     | 58      |\n",
        "| accuracy           |           |        | 0.20     | 345     |\n",
        "| macro avg          | 0.17      | 0.17   | 0.17     | 345     |\n",
        "| weighted avg       | 0.20      | 0.20   | 0.20     | 345     |\n"
      ]
    },
    {
      "cell_type": "markdown",
      "metadata": {},
      "source": [
        "**Estadisticas en Test Set de KNeighbors**\n",
        "\n",
        "|                    | precision | recall | f1-score | support |\n",
        "|--------------------|-----------|--------|----------|---------|\n",
        "| J.C.Staff          | 0.24      | 0.48   | 0.32     | 42      |\n",
        "| Madhouse           | 0.09      | 0.12   | 0.10     | 34      |\n",
        "| Nippon Animation   | 0.14      | 0.19   | 0.16     | 31      |\n",
        "| Production I.G     | 0.16      | 0.17   | 0.17     | 23      |\n",
        "| Studio Deen        | 0.28      | 0.22   | 0.25     | 36      |\n",
        "| Studio Pierrot     | 0.15      | 0.07   | 0.10     | 28      |\n",
        "| Sunrise            | 0.14      | 0.13   | 0.14     | 52      |\n",
        "| TMS Entertainment  | 0.00      | 0.00   | 0.00     | 20      |\n",
        "| Tatsunoko Production | 0.09   | 0.05   | 0.06     | 21      |\n",
        "| Toei Animation     | 0.17      | 0.14   | 0.15     | 58      |\n",
        "| accuracy           |           |        | 0.17     | 345     |\n",
        "| macro avg          | 0.15      | 0.16   | 0.15     | 345     |\n",
        "| weighted avg       | 0.16      | 0.17   | 0.16     | 345     |\n"
      ]
    },
    {
      "cell_type": "markdown",
      "metadata": {},
      "source": [
        "**Estadisticas en Test Set de GaussianNB**\n",
        "\n",
        "|                    | precision | recall | f1-score | support |\n",
        "|--------------------|-----------|--------|----------|---------|\n",
        "| J.C.Staff          | 0.17      | 0.19   | 0.18     | 42      |\n",
        "| Madhouse           | 0.24      | 0.12   | 0.16     | 34      |\n",
        "| Nippon Animation   | 0.12      | 0.74   | 0.21     | 31      |\n",
        "| Production I.G     | 0.11      | 0.04   | 0.06     | 23      |\n",
        "| Studio Deen        | 0.08      | 0.03   | 0.04     | 36      |\n",
        "| Studio Pierrot     | 0.00      | 0.00   | 0.00     | 28      |\n",
        "| Sunrise            | 0.25      | 0.02   | 0.04     | 52      |\n",
        "| TMS Entertainment  | 0.00      | 0.00   | 0.00     | 20      |\n",
        "| Tatsunoko Production | 0.06   | 0.05   | 0.05     | 21      |\n",
        "| Toei Animation     | 0.12      | 0.09   | 0.10     | 58      |\n",
        "| accuracy           |           |        | 0.13     | 345     |\n",
        "| macro avg          | 0.11      | 0.13   | 0.08     | 345     |\n",
        "| weighted avg       | 0.13      | 0.13   | 0.09     | 345     |\n"
      ]
    },
    {
      "cell_type": "markdown",
      "metadata": {},
      "source": [
        "**Estadisticas en Test Set de SVC**\n",
        "\n",
        "|                    | precision | recall | f1-score | support |\n",
        "|--------------------|-----------|--------|----------|---------|\n",
        "| J.C.Staff          | 0.24      | 0.40   | 0.30     | 42      |\n",
        "| Madhouse           | 0.00      | 0.00   | 0.00     | 34      |\n",
        "| Nippon Animation   | 0.00      | 0.00   | 0.00     | 31      |\n",
        "| Production I.G     | 0.00      | 0.00   | 0.00     | 23      |\n",
        "| Studio Deen        | 0.00      | 0.00   | 0.00     | 36      |\n",
        "| Studio Pierrot     | 0.00      | 0.00   | 0.00     | 28      |\n",
        "| Sunrise            | 0.31      | 0.08   | 0.12     | 52      |\n",
        "| TMS Entertainment  | 0.00      | 0.00   | 0.00     | 20      |\n",
        "| Tatsunoko Production | 0.00   | 0.00   | 0.00     | 21      |\n",
        "| Toei Animation     | 0.19      | 0.86   | 0.31     | 58      |\n",
        "| accuracy           |           |        | 0.21     | 345     |\n",
        "| macro avg          | 0.07      | 0.13   | 0.07     | 345     |\n",
        "| weighted avg       | 0.11      | 0.21   | 0.11     | 345     |\n"
      ]
    },
    {
      "cell_type": "markdown",
      "metadata": {},
      "source": [
        "Podemos observar que en todos los algoritmos los valores de las métricas son muy bajos. Especialmente en términos de precisión (accuracy), los resultados más destacados son 0.21 para SVC y 0.20 para DecisionTree, lo cual no alcanza niveles aceptables. Concluimos que predecir los estudios de animación utilizando los atributos seleccionados es muy complicado. Sin embargo, deseamos explorar si hay alguna mejora notable al considerar los cinco estudios con más instancias.\n",
        "\n",
        "Por lo tanto, procederemos a reciclar el código utilizado anteriormente, pero esta vez analizando únicamente los cinco estudios con más instancias. Separaremos los bloques de código sin proporcionar explicaciones detalladas, debido al reciclaje del material. (**_Código en Anexo: 7.7_**)"
      ]
    },
    {
      "cell_type": "markdown",
      "metadata": {},
      "source": [
        "El bloque de código anterior se encarga de filtrar los 5 estudios con más instancias, para luego repetir el experimento inicial."
      ]
    },
    {
      "cell_type": "markdown",
      "metadata": {},
      "source": [
        "**Accuracy en Test Set de DecisionTreeClassifier:** 0.3738738738738739\n",
        "\n",
        "| Estudio          | Precision | Recall | F1-Score | Support |\n",
        "|------------------|-----------|--------|----------|---------|\n",
        "| J.C.Staff        | 0.40      | 0.43   | 0.41     | 42      |\n",
        "| Madhouse         | 0.21      | 0.18   | 0.19     | 34      |\n",
        "| Studio Deen      | 0.28      | 0.28   | 0.28     | 36      |\n",
        "| Sunrise          | 0.39      | 0.42   | 0.41     | 52      |\n",
        "| Toei Animation   | 0.48      | 0.47   | 0.47     | 58      |\n",
        "| **accuracy**     |           |        | 0.37     | 222     |\n",
        "| **macro avg**    | 0.35      | 0.35   | 0.35     | 222     |\n",
        "| **weighted avg** | 0.37      | 0.37   | 0.37     | 222     |\n"
      ]
    },
    {
      "cell_type": "markdown",
      "metadata": {},
      "source": [
        "**Accuracy en Test Set de KNeighbors:** 0.33783783783783783\n",
        "\n",
        "| Estudio          | Precision | Recall | F1-Score | Support |\n",
        "|------------------|-----------|--------|----------|---------|\n",
        "| J.C.Staff        | 0.33      | 0.48   | 0.39     | 42      |\n",
        "| Madhouse         | 0.10      | 0.09   | 0.10     | 34      |\n",
        "| Studio Deen      | 0.42      | 0.36   | 0.39     | 36      |\n",
        "| Sunrise          | 0.33      | 0.35   | 0.34     | 52      |\n",
        "| Toei Animation   | 0.45      | 0.36   | 0.40     | 58      |\n",
        "| **accuracy**     |           |        | 0.34     | 222     |\n",
        "| **macro avg**    | 0.33      | 0.33   | 0.32     | 222     |\n",
        "| **weighted avg** | 0.34      | 0.34   | 0.34     | 222     |\n"
      ]
    },
    {
      "cell_type": "markdown",
      "metadata": {},
      "source": [
        "**Accuracy en Test Set de GaussianNB:** 0.3108108108108108\n",
        "\n",
        "| Estudio          | Precision | Recall | F1-Score | Support |\n",
        "|------------------|-----------|--------|----------|---------|\n",
        "| J.C.Staff        | 0.32      | 0.21   | 0.26     | 42      |\n",
        "| Madhouse         | 0.24      | 0.12   | 0.16     | 34      |\n",
        "| Studio Deen      | 0.06      | 0.03   | 0.04     | 36      |\n",
        "| Sunrise          | 0.35      | 0.15   | 0.21     | 52      |\n",
        "| Toei Animation   | 0.35      | 0.81   | 0.48     | 58      |\n",
        "| **accuracy**     |           |        | 0.31     | 222     |\n",
        "| **macro avg**    | 0.26      | 0.26   | 0.23     | 222     |\n",
        "| **weighted avg** | 0.28      | 0.31   | 0.26     | 222     |\n"
      ]
    },
    {
      "cell_type": "markdown",
      "metadata": {},
      "source": [
        "**Accuracy en Test Set de SVC:** 0.30180180180180183\n",
        "\n",
        "| Estudio          | Precision | Recall | F1-Score | Support |\n",
        "|------------------|-----------|--------|----------|---------|\n",
        "| J.C.Staff        | 0.27      | 0.40   | 0.33     | 42      |\n",
        "| Madhouse         | 0.00      | 0.00   | 0.00     | 34      |\n",
        "| Studio Deen      | 0.00      | 0.00   | 0.00     | 36      |\n",
        "| Sunrise          | 0.00      | 0.00   | 0.00     | 52      |\n",
        "| Toei Animation   | 0.31      | 0.86   | 0.46     | 58      |\n",
        "| **accuracy**     |           |        | 0.30     | 222     |\n",
        "| **macro avg**    | 0.12      | 0.25   | 0.16     | 222     |\n",
        "| **weighted avg** | 0.13      | 0.30   | 0.18     | 222     |"
      ]
    },
    {
      "cell_type": "markdown",
      "metadata": {},
      "source": [
        "Después de repetir el experimento, se observa cierta mejoría, aunque no es significativa. Por lo tanto, podemos concluir definitivamente que con los atributos seleccionados no es posible predecir de manera efectiva a qué estudio de animación pertenece. Además, es notable que el SVC mostró el menor aumento en la precisión, con el algoritmo DecisionTree obteniendo la mejor puntuación de 0.37, destacando especialmente en las métricas específicas de cada estudio."
      ]
    },
    {
      "cell_type": "markdown",
      "metadata": {},
      "source": [
        "\n",
        "## Pregunta 3:\n",
        "\n",
        "**¿Existen patrones temporales (meses o años) en los que se lancen más animés de alta calidad (puntuación > 8)?**:\n",
        "\n",
        "Para comenzar la experimentación, se importan las bibliotecas necesarias para manipulación de datos, visualización y técnicas de clustering. Luego, se cargan los datos originales del archivo AnimeList.csv y se eliminan columnas innecesarias para simplificar el dataset. (**_Código en Anexo: 8.1_**)"
      ]
    },
    {
      "cell_type": "markdown",
      "metadata": {},
      "source": [
        "Se define y aplica una función para limitar los géneros de cada anime a los dos principales. Luego filtramos los datos para incluir solo animés con puntuación mayor a cero, que hayan terminado de emitirse, que tengan más de un episodio y que no pertenezcan al género 'Hentai'. (**_Código en Anexo: 1_**)"
      ]
    },
    {
      "cell_type": "markdown",
      "metadata": {},
      "source": [
        "El siguiente paso era obtener las fechas a analizar, para ello se creó una función que extrae la fecha de inicio de emisión de un anime a partir de una cadena de texto y luego aplica esta función al DataFrame filtrado. Luego, se extraen las características año, mes y temporada del año (invierno, primavera, verano, otoño) de emisión para cada anime. (**_Código en Anexo: 8.2_**)"
      ]
    },
    {
      "cell_type": "markdown",
      "metadata": {},
      "source": [
        "Se codifican las temporadas en formato numérico utilizando LabelEncoder. Posteriormente, se filtran los animés con una puntuación mayor a 8, considerándolos de alta calidad. (**_Código en Anexo: 8.3_**)"
      ]
    },
    {
      "cell_type": "markdown",
      "metadata": {},
      "source": [
        "Se seleccionan las características relevantes (score y season_encoded) para realizar clustering. Se aplican tres métodos de clustering (K-means, Agglomerative Clustering y DBSCAN) y se asignan los resultados a nuevas columnas. Luego, se evalúan los clusters utilizando el índice de silueta., que mide qué tan bien están separados los clusters. (**_Código en Anexo: 8.4_**)"
      ]
    },
    {
      "cell_type": "markdown",
      "metadata": {},
      "source": [
        "Este bloque genera gráficos de dispersión para visualizar los clusters formados por los tres algoritmos de clustering en función de la puntuación y la temporada codificada. Esto permite comparar visualmente los resultados de cada método de clustering. (**_Código en Anexo: 8.5_**)"
      ]
    },
    {
      "cell_type": "markdown",
      "metadata": {},
      "source": [
        "### Gráficos obtenidos\n",
        "\n",
        "Destacamos que las temporadas están codificadas en los valores 0,1,2 y 3, estos significan:\n",
        "- 0.0: Invierno\n",
        "- 1.0: Primavera\n",
        "- 2.0: Verano\n",
        "- 3.0: Otoño\n",
        "\n",
        "#### Composición de Clusters de K-means\n",
        "\n",
        "<div style=\"text-align: center;\">\n",
        "    <img src=\"imagenes/PT-kmeans.png\" alt=\"Géneros más comunes\" width=\"600\"/>\n",
        "</div>\n",
        "\n",
        "| kmeans_cluster | score_mean | score_std | score_count | season_encoded_mean | season_encoded_std | season_encoded_count |\n",
        "|----------------|------------|-----------|-------------|---------------------|--------------------|----------------------|\n",
        "| 0              | 8.357733   | 0.246278  | 75          | 0.0                 | 0.0                | 75                   |\n",
        "| 1              | 8.322080   | 0.260060  | 125         | 3.0                 | 0.0                | 125                  |\n",
        "| 2              | 8.298189   | 0.272797  | 127         | 1.0                 | 0.0                | 127                  |\n",
        "| 3              | 8.322692   | 0.233222  | 52          | 2.0                 | 0.0                | 52                   |\n",
        "\n",
        "\n",
        "\n",
        "#### Composición de Clusters de Agglomerative Clustering\n",
        "\n",
        "\n",
        "<div style=\"text-align: center;\">\n",
        "    <img src=\"imagenes/PT-agglo.png\" alt=\"Géneros más comunes\" width=\"600\"/>\n",
        "</div>\n",
        "\n",
        "\n",
        "| agg_cluster | score_mean | score_std | score_count | season_encoded_mean | season_encoded_std | season_encoded_count |\n",
        "|-------------|------------|-----------|-------------|---------------------|--------------------|----------------------|\n",
        "| 0           | 8.298189   | 0.272797  | 127         | 1.0                 | 0.0                | 127                  |\n",
        "| 1           | 8.322080   | 0.260060  | 125         | 3.0                 | 0.0                | 125                  |\n",
        "| 2           | 8.357733   | 0.246278  | 75          | 0.0                 | 0.0                | 75                   |\n",
        "| 3           | 8.322692   | 0.233222  | 52          | 2.0                 | 0.0                | 52                   |\n",
        "\n",
        "\n",
        "\n",
        "#### Composición de Clusters de DBSCAN\n",
        "\n",
        "<div style=\"text-align: center;\">\n",
        "    <img src=\"imagenes/PT-DBS.png\" alt=\"Géneros más comunes\" width=\"600\"/>\n",
        "</div>\n",
        "\n",
        "\n",
        "| dbscan_cluster | score_mean | score_std | score_count | season_encoded_mean | season_encoded_std | season_encoded_count |\n",
        "|----------------|------------|-----------|-------------|---------------------|--------------------|----------------------|\n",
        "| 0              | 8.322692   | 0.233222  | 52          | 2.0                 | 0.0                | 52                   |\n",
        "| 1              | 8.322080   | 0.260060  | 125         | 3.0                 | 0.0                | 125                  |\n",
        "| 2              | 8.298189   | 0.272797  | 127         | 1.0                 | 0.0                | 127                  |\n",
        "| 3              | 8.357733   | 0.246278  | 75          | 0.0                 | 0.0                | 75                   |\n",
        "\n",
        "\n",
        "Se intentaron otras maneras de realizar la clusterización, pero ninguna nos entregó información relevante.\n",
        "<div style=\"text-align: center;\">\n",
        "    <img src=\"imagenes/PM-kmeans.png\" alt=\"Géneros más comunes\" width=\"600\"/>\n",
        "</div>\n",
        "\n",
        "<div style=\"text-align: center;\">\n",
        "    <img src=\"imagenes/PA-kmeans.png\" alt=\"Géneros más comunes\" width=\"600\"/>\n",
        "</div>\n",
        "\n",
        "<div style=\"text-align: center;\">\n",
        "    <img src=\"imagenes/AM-kmeans.png\" alt=\"Géneros más comunes\" width=\"600\"/>\n",
        "</div>\n",
        "\n",
        "\n",
        "#### Cantidad de animés lanzados por temporada y año.\n",
        "<div style=\"text-align: center;\">\n",
        "    <img src=\"imagenes/cantidad_temporada.png\" alt=\"Géneros más comunes\" width=\"600\"/>\n",
        "</div>\n",
        "\n",
        "<div style=\"text-align: center;\">\n",
        "    <img src=\"imagenes/cantidad_por_año.png\" alt=\"Géneros más comunes\" width=\"600\"/>\n",
        "</div>\n"
      ]
    },
    {
      "cell_type": "markdown",
      "metadata": {},
      "source": [
        "\n",
        "A lo largo de los años, la cantidad de animés lanzados ha aumentado significativamente. Esta disparidad en el número de lanzamientos por año afecta la capacidad de encontrar patrones confiables debido a la variabilidad en los datos.\n",
        "\n",
        "##### Análisis de Clusters\n",
        "\n",
        "Se aplicaron técnicas de clustering (K-means, Agglomerative Clustering y DBSCAN) para agrupar animés de alta calidad basados en puntuación, temporada, mes y año. Los resultados mostraron lo siguiente:\n",
        "\n",
        "- **K-means Clustering**: Silhouette Score: 0.452 Visualización de clusters mostró agrupaciones moderadas en las puntuaciones y temporadas, pero sin un patrón claro.\n",
        "\n",
        "- **Agglomerative Clustering**: Silhouette Score: 0.403 Similar al K-means, mostró agrupaciones pero sin un patrón claro.\n",
        "\n",
        "- **DBSCAN Clustering**: No encontró suficientes clusters para calcular el índice de silueta debido a la densidad de los datos.\n",
        "\n",
        "1. **Puntuación y Temporada**:\n",
        "   - Se observaron concentraciones de animés de alta calidad en ciertas temporadas, pero los resultados no fueron concluyentes debido a la alta variabilidad de los datos.\n",
        "\n",
        "2. **Puntuación y Mes**:\n",
        "   - Algunos meses mostraron una mayor concentración de animés de alta calidad, pero esta tendencia no fue definitiva debido a la variabilidad entre años.\n",
        "\n",
        "3. **Puntuación y Año**:\n",
        "   - Aumento en la producción de animés de alta calidad en años recientes, complicando la identificación de patrones consistentes a lo largo del tiempo.\n",
        "\n",
        "En resumen, aunque se identificaron ciertas concentraciones de animés de alta calidad en determinadas temporadas (primavera y otoño principalmente) y meses, los resultados no son concluyentes debido a la alta variabilidad en los datos. La creciente producción de animés en años recientes sugiere una mejora en la calidad general, pero también presenta desafíos adicionales para la identificación de patrones confiables."
      ]
    },
    {
      "cell_type": "markdown",
      "metadata": {},
      "source": [
        "---"
      ]
    },
    {
      "cell_type": "markdown",
      "metadata": {},
      "source": [
        "## 6. Distribución del trabajo.\n",
        "\n",
        "- **Amaro Zurita**: Desarrollo de experimentación pregunta 1 y 2, aporte en planteamiento de preguntas preliminares.\n",
        "- **Javier Facondi**: Desarrollo de experimentación pregunta 3, carga y limpieza de datos.\n",
        "- **Marco Martinez**: Mejora hitos anteriores, exploración de datos, y construcción del informe, aporte en planteamiento de preguntas preliminares.\n",
        "- **Mario Fuentes**: Desarrollo de experimentación pregunta 3, análisis de resultados preliminares.\n",
        "- **Pedro Escobar**: Desarrollo de experimentación pregunta 2, aporte en planteamiento de preguntas preliminares."
      ]
    },
    {
      "cell_type": "markdown",
      "metadata": {},
      "source": [
        "---\n"
      ]
    },
    {
      "cell_type": "markdown",
      "metadata": {},
      "source": [
        "# Anexo"
      ]
    },
    {
      "cell_type": "markdown",
      "metadata": {},
      "source": [
        "### 1. Código de limpieza y exploración de datos."
      ]
    },
    {
      "cell_type": "code",
      "execution_count": null,
      "metadata": {},
      "outputs": [],
      "source": [
        "# Importamos las librerias correspondientes.\n",
        "import pandas as pd\n",
        "import matplotlib.pyplot as plt\n",
        "\n",
        "# Se carga el dataset\n",
        "anime_data = pd.read_csv('AnimeList.csv')\n",
        "\n",
        "# Columnas a eliminar (no tendrán uso en nuestro estudio)\n",
        "df = anime_data.drop(columns=['airing', 'aired', 'background', 'duration','opening_theme','ending_theme','image_url','broadcast','title_english','title_synonyms','licensor','premiered','producer'])\n",
        "\n",
        "# Función que permite identificar los dos generos principales\n",
        "def limit_genres(df):\n",
        "    # Split the genres by comma and take the first two\n",
        "    df['genre'] = df['genre'].apply(lambda x: ', '.join(x.split(', ')[:2]))\n",
        "    return df\n",
        "\n",
        "# Guardamos el dataset filtrado, se utilizan solo los anime con estado 'Finished Airing', con cantidad de episodios mayor a 1 y genero distinto a \"Hentai\".\n",
        "filt_df = df[(df['score'] > 0) & (df['status'] == 'Finished Airing') & (df['episodes'] != 1) & (df['genre'] != 'Hentai')]"
      ]
    },
    {
      "cell_type": "markdown",
      "metadata": {},
      "source": [
        "### 2. Gráfico con el estado de los animés."
      ]
    },
    {
      "cell_type": "code",
      "execution_count": null,
      "metadata": {},
      "outputs": [],
      "source": [
        "count_status = df['status'].value_counts()\n",
        "print(count_status)\n",
        "count_status.plot(kind='bar')\n",
        "plt.title('Estado de los animés')\n",
        "plt.xlabel('Estado')\n",
        "plt.ylabel('Cantidad de animés')\n",
        "plt.show()"
      ]
    },
    {
      "cell_type": "markdown",
      "metadata": {},
      "source": [
        "### 3. Gráfico con la distribución de puntajes."
      ]
    },
    {
      "cell_type": "code",
      "execution_count": null,
      "metadata": {},
      "outputs": [],
      "source": [
        "plt.figure(figsize=(10, 6))\n",
        "plt.hist(filt_df['score'].dropna(), bins=20, edgecolor='black')\n",
        "plt.title('Distribución de Puntuaciones')\n",
        "plt.xlabel('Puntuación')\n",
        "plt.ylabel('Frecuencia')\n",
        "plt.show()"
      ]
    },
    {
      "cell_type": "markdown",
      "metadata": {},
      "source": [
        "### 4. Gráfico con los generos más comunes."
      ]
    },
    {
      "cell_type": "code",
      "execution_count": null,
      "metadata": {},
      "outputs": [],
      "source": [
        "# Filtramos según generos\n",
        "genres = filt_df.dropna(subset=['genre'])\n",
        "df_genres = limit_genres(genres)['genre']\n",
        "\n",
        "# Graficamos\n",
        "print(df_genres.shape)\n",
        "count_genres = df_genres.value_counts()\n",
        "count_genres.sort_values(ascending=True)\n",
        "count_genres.head(10).plot(kind='barh')\n",
        "plt.title('Generos más comunes')\n",
        "plt.xlabel('Cantidad de animés')\n",
        "plt.ylabel('Generos')\n",
        "plt.show()"
      ]
    },
    {
      "cell_type": "markdown",
      "metadata": {},
      "source": [
        "### 5. Gráfico con la cantidad promedio de episodios por genero."
      ]
    },
    {
      "cell_type": "code",
      "execution_count": null,
      "metadata": {},
      "outputs": [],
      "source": [
        "genres = filt_df.dropna(subset=['genre', 'episodes'])\n",
        "\n",
        "# Aplicamos la función que filtra los dos generos más comunes\n",
        "df_genres = limit_genres(genres)\n",
        "\n",
        "# Agrupamos por género y calculamos la media de los episodios\n",
        "average_episodes_per_genre = df_genres.groupby('genre')['episodes'].mean()\n",
        "\n",
        "# Ordenamos los resultados\n",
        "average_episodes_per_genre = average_episodes_per_genre.sort_values(ascending=False)\n",
        "\n",
        "# Graficamos\n",
        "average_episodes_per_genre.head(10).plot(kind='barh')\n",
        "plt.title('Cantidad promedio de episodios por género')\n",
        "plt.xlabel('Cantidad promedio de episodios')\n",
        "plt.ylabel('Géneros')\n",
        "plt.show()"
      ]
    },
    {
      "cell_type": "markdown",
      "metadata": {},
      "source": [
        "### 6. Gráfico de Popularidad vs. Ranking"
      ]
    },
    {
      "cell_type": "code",
      "execution_count": null,
      "metadata": {},
      "outputs": [],
      "source": [
        "import numpy as np\n",
        "import seaborn as sns\n",
        "\n",
        "# Graficamos\n",
        "plt.figure(figsize=(10, 6))\n",
        "plt.scatter(filt_df['popularity'], filt_df['rank'], alpha=0.5)\n",
        "plt.title('Popularidad vs Ranking')\n",
        "sns.regplot(x='popularity', y='rank', data=filt_df, scatter=False, color='red')\n",
        "plt.xlabel('Popularidad')\n",
        "plt.ylabel('Ranking')\n",
        "plt.show()"
      ]
    },
    {
      "cell_type": "markdown",
      "metadata": {},
      "source": [
        "### 6. Código fuente experimentación pregunta 1."
      ]
    },
    {
      "cell_type": "markdown",
      "metadata": {},
      "source": [
        "#### 6.1.\n"
      ]
    },
    {
      "cell_type": "code",
      "execution_count": null,
      "metadata": {},
      "outputs": [],
      "source": [
        "import pandas as pd\n",
        "from sklearn.tree import plot_tree\n",
        "from sklearn.preprocessing import LabelEncoder, StandardScaler\n",
        "from sklearn.tree import DecisionTreeClassifier\n",
        "from sklearn.model_selection import train_test_split, cross_val_score\n",
        "from sklearn.metrics import classification_report\n",
        "import matplotlib.pyplot as plt"
      ]
    },
    {
      "cell_type": "markdown",
      "metadata": {},
      "source": [
        "#### 6.2.\n"
      ]
    },
    {
      "cell_type": "code",
      "execution_count": null,
      "metadata": {},
      "outputs": [],
      "source": [
        "# Crear una copia del DataFrame filtrado para evitar SettingWithCopyWarning\n",
        "filt_df = filt_df.copy()\n",
        "\n",
        "# Codificación de variables categóricas\n",
        "le_genre = LabelEncoder()\n",
        "le_studio = LabelEncoder()\n",
        "\n",
        "filt_df.loc[:, 'genre_encoded'] = le_genre.fit_transform(filt_df['genre'])\n",
        "filt_df.loc[:, 'studio_encoded'] = le_studio.fit_transform(filt_df['studio'])\n",
        "\n",
        "# Normalización del número de episodios\n",
        "scaler = StandardScaler()\n",
        "filt_df.loc[:, 'normalized_episodes'] = scaler.fit_transform(filt_df[['episodes']])\n",
        "\n",
        "# Variable objetivo\n",
        "filt_df.loc[:, 'high_score'] = (filt_df['score'] > 8).astype(int)\n"
      ]
    },
    {
      "cell_type": "markdown",
      "metadata": {},
      "source": [
        "#### 6.3.\n"
      ]
    },
    {
      "cell_type": "code",
      "execution_count": null,
      "metadata": {},
      "outputs": [],
      "source": [
        "# Selección de características\n",
        "features = ['genre_encoded', 'studio_encoded', 'normalized_episodes']\n",
        "X = filt_df[features]\n",
        "y = filt_df['high_score']\n",
        "\n",
        "# Dividir el conjunto de datos en entrenamiento y prueba\n",
        "X_train, X_test, y_train, y_test = train_test_split(X, y, test_size=0.3, random_state=42)\n"
      ]
    },
    {
      "cell_type": "markdown",
      "metadata": {},
      "source": [
        "#### 6.4.\n"
      ]
    },
    {
      "cell_type": "code",
      "execution_count": null,
      "metadata": {},
      "outputs": [],
      "source": [
        "# Entrenamiento del modelo\n",
        "dt = DecisionTreeClassifier()\n",
        "dt.fit(X_train, y_train)\n",
        "\n",
        "# Predicción en el conjunto de prueba\n",
        "y_pred = dt.predict(X_test)\n",
        "print(\"\\nReporte de clasificación - Árbol de Decisión:\")\n",
        "print(classification_report(y_test, y_pred))\n",
        "\n",
        "# Visualización del árbol de decisión\n",
        "plt.figure(figsize=(20,10))\n",
        "plot_tree(decision_tree=dt, feature_names=features, filled=True, class_names=['Low Score', 'High Score'], rounded=True)\n",
        "plt.show()\n",
        "\n",
        "# Evaluación del modelo usando validación cruzada\n",
        "#scores = cross_val_score(dt, X, y, cv=5, scoring='accuracy')\n",
        "#print(f'Precisión con validación cruzada: {scores.mean()}')\n",
        "\n",
        "# Importancia de características\n",
        "feature_importances = dt.feature_importances_\n",
        "print(\"\\nImportancia de las características - Árbol de Decisión:\")\n",
        "for feature, importance in zip(features, feature_importances):\n",
        "    print(f'{feature}: {importance}')\n"
      ]
    },
    {
      "cell_type": "markdown",
      "metadata": {},
      "source": [
        "#### 6.5.\n"
      ]
    },
    {
      "cell_type": "code",
      "execution_count": null,
      "metadata": {},
      "outputs": [],
      "source": [
        "# Entrenar el modelo de Random Forest\n",
        "rf = RandomForestClassifier()\n",
        "rf.fit(X_train, y_train)\n",
        "\n",
        "# Predecir y mostrar el reporte de clasificación para Random Forest\n",
        "y_pred_rf = rf.predict(X_test)\n",
        "print(\"\\nReporte de clasificación - Random Forest:\")\n",
        "print(classification_report(y_test, y_pred_rf))\n",
        "\n",
        "# Obtener la importancia de las características\n",
        "importancia_rf = rf.feature_importances_\n",
        "\n",
        "# Imprimir la importancia de las características\n",
        "print(\"\\nImportancia de las características - Random Forest:\")\n",
        "for feature, importance in zip(X.columns, importancia_rf):\n",
        "    print(f'{feature}: {importance}')"
      ]
    },
    {
      "cell_type": "markdown",
      "metadata": {},
      "source": [
        "#### 6.6.\n"
      ]
    },
    {
      "cell_type": "code",
      "execution_count": null,
      "metadata": {},
      "outputs": [],
      "source": [
        "# Entrenar el modelo de Gradient Boosting\n",
        "gb = GradientBoostingClassifier()\n",
        "gb.fit(X_train, y_train)\n",
        "\n",
        "# Predecir y mostrar el reporte de clasificación para Gradient Boosting\n",
        "y_pred_gb = gb.predict(X_test)\n",
        "print(\"\\nReporte de clasificación - Gradient Boosting:\")\n",
        "print(classification_report(y_test, y_pred_gb))\n",
        "\n",
        "# Obtener la importancia de las características\n",
        "importancia_gb = gb.feature_importances_\n",
        "\n",
        "# Imprimir la importancia de las características\n",
        "print(\"\\nImportancia de las características - Gradient Boosting:\")\n",
        "for feature, importance in zip(X.columns, importancia_gb):\n",
        "    print(f'{feature}: {importance}')"
      ]
    },
    {
      "cell_type": "markdown",
      "metadata": {},
      "source": [
        "### 7. Código fuente experimentación pregunta 2.\t"
      ]
    },
    {
      "cell_type": "markdown",
      "metadata": {},
      "source": [
        "#### 7.1.\n"
      ]
    },
    {
      "cell_type": "code",
      "execution_count": null,
      "metadata": {},
      "outputs": [],
      "source": [
        "from sklearn import preprocessing\n",
        "from sklearn.svm import SVC\n",
        "from sklearn.tree import DecisionTreeClassifier\n",
        "from sklearn.naive_bayes import GaussianNB\n",
        "from sklearn.neighbors import KNeighborsClassifier\n",
        "from sklearn.metrics import accuracy_score\n",
        "from sklearn.metrics import classification_report\n",
        "from sklearn.model_selection import train_test_split\n",
        "import pandas as pd\n",
        "import matplotlib.pyplot as plt\n",
        "import re\n",
        "import numpy as np\n",
        "\n",
        "%matplotlib inline\n",
        "\n",
        "anime_data = pd.read_csv('AnimeList.csv')\n",
        "\n",
        "df = anime_data.drop(columns=['airing', 'aired', 'background','opening_theme','ending_theme','image_url','broadcast','title_english','title_synonyms','licensor','premiered','producer'])"
      ]
    },
    {
      "cell_type": "markdown",
      "metadata": {},
      "source": [
        "#### 7.2.\n"
      ]
    },
    {
      "cell_type": "code",
      "execution_count": null,
      "metadata": {},
      "outputs": [],
      "source": [
        "#Caracteristicas a ocupar\n",
        "req_cols = ['type', 'episodes', 'duration', 'score', 'scored_by', 'rank', 'popularity', 'members',  'studio']\n",
        "\n",
        "X = filt_df[req_cols].copy()\n",
        "counts = X['studio'].value_counts()\n",
        "#contamos solo los top 10 estudios y luego los imprimimos con head.\n",
        "top_10_studios = counts.head(10)\n",
        "X = X[X['studio'].isin(top_10_studios.index)]\n",
        "#nos aseguramos de que estamos con los 10 estudios\n",
        "print(X['studio'].unique())\n",
        "\n",
        "\n",
        "# Convertir las variables categóricas en la columna type a variables numéricas.\n",
        "le = preprocessing.LabelEncoder()\n",
        "le.fit(X['type'])\n",
        "print(X['type'].unique())\n",
        "X['type'] = le.transform(X['type'])\n",
        "#Printeamos los type\n",
        "print(X['type'].unique())\n",
        "#printeamos el tamanno de lo impreso anteriormente\n",
        "print(len(X['type'].unique()))"
      ]
    },
    {
      "cell_type": "markdown",
      "metadata": {},
      "source": [
        "#### 7.3.\n"
      ]
    },
    {
      "cell_type": "code",
      "execution_count": null,
      "metadata": {},
      "outputs": [],
      "source": [
        "def convert_to_minutes(duration_str):\n",
        "    # Inicializamos las variables\n",
        "    minutes = 0\n",
        "\n",
        "    # Buscamos las horas y los minutos en el string\n",
        "    hr_match = re.search(r'(\\d+)\\s*hr', duration_str)\n",
        "    min_match = re.search(r'(\\d+)\\s*min', duration_str)\n",
        "\n",
        "    # Si encontramos horas, las convertimos a minutos\n",
        "    if hr_match:\n",
        "        hours = int(hr_match.group(1))\n",
        "        minutes += hours * 60\n",
        "\n",
        "    # Si encontramos minutos, los agregamos a la variable minutes\n",
        "    if min_match:\n",
        "        mins = int(min_match.group(1))\n",
        "        minutes += mins\n",
        "\n",
        "    return minutes"
      ]
    },
    {
      "cell_type": "markdown",
      "metadata": {},
      "source": [
        "#### 7.4.\n"
      ]
    },
    {
      "cell_type": "code",
      "execution_count": null,
      "metadata": {},
      "outputs": [],
      "source": [
        "# Aplicamos la función a la columna duration\n",
        "X['duration'] = X['duration'].apply(convert_to_minutes)\n",
        "\n",
        "#Codificación de la Variable Objetivo: Crear un vector y que contenga los valores de la columna studio y eliminar esta columna del DataFrame.\n",
        "#Dropeamos los nan\n",
        "X = X.dropna()\n",
        "y = X['studio']\n",
        "#Dropeamos los estudios con solo una frecuencia\n",
        "\n",
        "X = X.drop(columns=['studio'])"
      ]
    },
    {
      "cell_type": "markdown",
      "metadata": {},
      "source": [
        "#### 7.5.\n"
      ]
    },
    {
      "cell_type": "code",
      "execution_count": null,
      "metadata": {},
      "outputs": [],
      "source": [
        "# Genero los datos de Entrenamiento y Test\n",
        "X_train, X_test, y_train, y_test = train_test_split(X, y, test_size=.2, random_state=37, stratify=y)"
      ]
    },
    {
      "cell_type": "markdown",
      "metadata": {},
      "source": [
        "#### 7.6.\n"
      ]
    },
    {
      "cell_type": "code",
      "execution_count": null,
      "metadata": {},
      "outputs": [],
      "source": [
        "#Algoritmo de DecisionTreeClassifier.\n",
        "clf = DecisionTreeClassifier()\n",
        "clf.fit(X_train, y_train)  # Entrenamos con features X_train_resampled y clases y_train_resampled\n",
        "\n",
        "y_pred = clf.predict(X_test)  # Predecimos con nuevos datos (los de test X_test)\n",
        "\n",
        "print(\"Accuracy en test set:\", accuracy_score(y_test, y_pred))  # Evaluamos la predicción comparando y_test con y_pred\n",
        "\n",
        "print(classification_report(y_test, y_pred))"
      ]
    },
    {
      "cell_type": "code",
      "execution_count": null,
      "metadata": {},
      "outputs": [],
      "source": [
        "#Algoritmo de KNeighbors.\n",
        "clf = KNeighborsClassifier()\n",
        "clf.fit(X_train, y_train)  # Entrenamos con features X_train_resampled y clases y_train_resampled\n",
        "\n",
        "y_pred = clf.predict(X_test)  # Predecimos con nuevos datos (los de test X_test)\n",
        "\n",
        "print(\"Accuracy en test set:\", accuracy_score(y_test, y_pred))  # Evaluamos la predicción comparando y_test con y_pred\n",
        "\n",
        "print(classification_report(y_test, y_pred))"
      ]
    },
    {
      "cell_type": "code",
      "execution_count": null,
      "metadata": {},
      "outputs": [],
      "source": [
        "#Algoritmo de GaussianNB.\n",
        "clf = GaussianNB()\n",
        "clf.fit(X_train, y_train)  # Entrenamos con features X_train_resampled y clases y_train_resampled\n",
        "\n",
        "y_pred = clf.predict(X_test)  # Predecimos con nuevos datos (los de test X_test)\n",
        "\n",
        "print(\"Accuracy en test set:\", accuracy_score(y_test, y_pred))  # Evaluamos la predicción comparando y_test con y_pred\n",
        "\n",
        "print(classification_report(y_test, y_pred, zero_division=0))"
      ]
    },
    {
      "cell_type": "code",
      "execution_count": null,
      "metadata": {},
      "outputs": [],
      "source": [
        "#Algoritmo de SVC.\n",
        "clf = SVC()\n",
        "clf.fit(X_train, y_train)  # Entrenamos con features X_train_resampled y clases y_train_resampled\n",
        "\n",
        "y_pred = clf.predict(X_test)  # Predecimos con nuevos datos (los de test X_test)\n",
        "\n",
        "print(\"Accuracy en test set:\", accuracy_score(y_test, y_pred))  # Evaluamos la predicción comparando y_test con y_pred\n",
        "\n",
        "print(classification_report(y_test, y_pred, zero_division=0))"
      ]
    },
    {
      "cell_type": "markdown",
      "metadata": {},
      "source": [
        "#### 7.7.\n"
      ]
    },
    {
      "cell_type": "code",
      "execution_count": null,
      "metadata": {},
      "outputs": [],
      "source": [
        "X = filt_df[req_cols].copy()\n",
        "counts = X['studio'].value_counts()\n",
        "#contamos solo los top 5 estudios y luego los imprimimos con head.\n",
        "top_5_studios = counts.head(5)\n",
        "#lo aplicamos\n",
        "X = X[X['studio'].isin(top_5_studios.index)]\n",
        "#nos aseguramos de que estamos con los 5 estudios\n",
        "print(X['studio'].unique())\n",
        "\n",
        "\n",
        "# Convertir las variables categóricas en la columna type a variables numéricas.\n",
        "le = preprocessing.LabelEncoder()\n",
        "le.fit(X['type'])\n",
        "print(X['type'].unique())\n",
        "X['type'] = le.transform(X['type'])\n",
        "#Printeamos los type\n",
        "print(X['type'].unique())\n",
        "#printeamos el tamanno de lo impreso anteriormente\n",
        "print(len(X['type'].unique()))\n",
        "\n",
        "# Aplicamos la función a la columna duration\n",
        "X['duration'] = X['duration'].apply(convert_to_minutes)\n",
        "\n",
        "#Codificación de la Variable Objetivo: Crear un vector y que contenga los valores de la columna studio y eliminar esta columna del DataFrame.\n",
        "#Dropeamos los nan\n",
        "X = X.dropna()\n",
        "y = X['studio']\n",
        "#Dropeamos los estudios con solo una frecuencia\n",
        "\n",
        "X = X.drop(columns=['studio'])"
      ]
    },
    {
      "cell_type": "markdown",
      "metadata": {},
      "source": [
        "### 8. Código fuente experimentación pregunta 3."
      ]
    },
    {
      "cell_type": "markdown",
      "metadata": {},
      "source": [
        "#### 8.1.\n"
      ]
    },
    {
      "cell_type": "code",
      "execution_count": null,
      "metadata": {},
      "outputs": [],
      "source": [
        "import pandas as pd\n",
        "import matplotlib.pyplot as plt\n",
        "from sklearn.preprocessing import LabelEncoder\n",
        "from sklearn.cluster import KMeans, AgglomerativeClustering, DBSCAN\n",
        "from sklearn.metrics import silhouette_score\n",
        "import numpy as np\n",
        "\n",
        "# Cargar datos originales\n",
        "anime_data = pd.read_csv('AnimeList.csv')\n",
        "\n",
        "# Eliminar columnas no necesarias\n",
        "df = anime_data.drop(columns=['airing', 'aired', 'background', 'duration', 'opening_theme', 'ending_theme', 'image_url', 'broadcast', 'title_english', 'title_synonyms', 'licensor', 'premiered', 'producer'])\n"
      ]
    },
    {
      "cell_type": "markdown",
      "metadata": {},
      "source": [
        "#### 8.2.\n"
      ]
    },
    {
      "cell_type": "code",
      "execution_count": null,
      "metadata": {},
      "outputs": [],
      "source": [
        "# Función para extraer la fecha de inicio y determinar la temporada\n",
        "def extract_start_date(aired_string):\n",
        "    if pd.isna(aired_string) or 'Not available' in aired_string or '?' in aired_string:\n",
        "        return np.nan\n",
        "    start_date = aired_string.split(' to ')[0]\n",
        "    try:\n",
        "        return pd.to_datetime(start_date)\n",
        "    except:\n",
        "        return np.nan\n",
        "\n",
        "# Extraer la fecha de inicio\n",
        "filt_df.loc[:, 'start_date'] = filt_df['aired_string'].apply(extract_start_date)\n",
        "\n",
        "# Extraer año, mes y temporada\n",
        "filt_df.loc[:, 'year'] = filt_df['start_date'].dt.year\n",
        "filt_df.loc[:, 'month'] = filt_df['start_date'].dt.month\n",
        "filt_df.loc[:, 'season'] = filt_df['start_date'].dt.month % 12 // 3 + 1  # 1: Winter, 2: Spring, 3: Summer, 4: Fall\n"
      ]
    },
    {
      "cell_type": "markdown",
      "metadata": {},
      "source": [
        "#### 8.3.\n"
      ]
    },
    {
      "cell_type": "code",
      "execution_count": null,
      "metadata": {},
      "outputs": [],
      "source": [
        "# Codificar las temporadas\n",
        "label_encoder = LabelEncoder()\n",
        "filt_df.loc[:, 'season_encoded'] = label_encoder.fit_transform(filt_df['season'])\n",
        "\n",
        "# Filtrar animés con puntuaciones mayores a 8\n",
        "high_quality_anime = filt_df[filt_df['score'] > 8]"
      ]
    },
    {
      "cell_type": "markdown",
      "metadata": {},
      "source": [
        "#### 8.4.\n"
      ]
    },
    {
      "cell_type": "code",
      "execution_count": null,
      "metadata": {},
      "outputs": [],
      "source": [
        "# Clustering\n",
        "# Seleccionar características relevantes\n",
        "X = high_quality_anime[['score', 'season_encoded']].dropna()\n",
        "\n",
        "# K-means clustering\n",
        "kmeans = KMeans(n_clusters=4, random_state=42)\n",
        "high_quality_anime.loc[:, 'kmeans_cluster'] = kmeans.fit_predict(X)\n",
        "\n",
        "# Agglomerative Clustering\n",
        "agg_clustering = AgglomerativeClustering(n_clusters=4)\n",
        "high_quality_anime.loc[:, 'agg_cluster'] = agg_clustering.fit_predict(X)\n",
        "\n",
        "# DBSCAN Clustering\n",
        "dbscan = DBSCAN(eps=0.5, min_samples=5)  # Ajuste los parámetros de DBSCAN según sea necesario\n",
        "high_quality_anime.loc[:, 'dbscan_cluster'] = dbscan.fit_predict(X)\n",
        "\n",
        "# Evaluar los clusters usando el índice de silueta\n",
        "kmeans_silhouette = silhouette_score(X, high_quality_anime['kmeans_cluster'])\n",
        "agg_silhouette = silhouette_score(X, high_quality_anime['agg_cluster'])\n",
        "\n",
        "# Verificar el número de clusters formados por DBSCAN\n",
        "if len(set(high_quality_anime['dbscan_cluster'])) > 1:\n",
        "    dbscan_silhouette = silhouette_score(X, high_quality_anime['dbscan_cluster'])\n",
        "    print(f'DBSCAN Silhouette Score: {dbscan_silhouette}')\n",
        "else:\n",
        "    print('DBSCAN no encontró suficientes clusters para calcular el índice de silueta.')\n",
        "\n",
        "print(f'K-means Silhouette Score: {kmeans_silhouette}')\n",
        "print(f'Agglomerative Clustering Silhouette Score: {agg_silhouette}')\n"
      ]
    },
    {
      "cell_type": "markdown",
      "metadata": {},
      "source": [
        "#### 8.5.\n"
      ]
    },
    {
      "cell_type": "code",
      "execution_count": null,
      "metadata": {},
      "outputs": [],
      "source": [
        "# Visualizar clusters por puntuación y temporada\n",
        "plt.figure(figsize=(14, 7))\n",
        "plt.scatter(X['score'], X['season_encoded'], c=high_quality_anime['kmeans_cluster'], cmap='viridis', label='K-means')\n",
        "plt.title('Clusters de animés de Alta Calidad basados en Puntuación y Temporada (K-means)')\n",
        "plt.xlabel('Puntuación')\n",
        "plt.ylabel('Temporada (Codificada)')\n",
        "plt.show()\n",
        "\n",
        "plt.figure(figsize=(14, 7))\n",
        "plt.scatter(X['score'], X['season_encoded'], c=high_quality_anime['agg_cluster'], cmap='viridis', label='Agglomerative')\n",
        "plt.title('Clusters de animés de Alta Calidad basados en Puntuación y Temporada (Agglomerative Clustering)')\n",
        "plt.xlabel('Puntuación')\n",
        "plt.ylabel('Temporada (Codificada)')\n",
        "plt.show()\n",
        "\n",
        "plt.figure(figsize=(14, 7))\n",
        "plt.scatter(X['score'], X['season_encoded'], c=high_quality_anime['dbscan_cluster'], cmap='viridis', label='DBSCAN')\n",
        "plt.title('Clusters de animés de Alta Calidad basados en Puntuación y Temporada (DBSCAN)')\n",
        "plt.xlabel('Puntuación')\n",
        "plt.ylabel('Temporada (Codificada)')\n",
        "plt.show()"
      ]
    }
  ],
  "metadata": {
    "colab": {
      "provenance": []
    },
    "kernelspec": {
      "display_name": "Python 3",
      "name": "python3"
    },
    "language_info": {
      "codemirror_mode": {
        "name": "ipython",
        "version": 3
      },
      "file_extension": ".py",
      "mimetype": "text/x-python",
      "name": "python",
      "nbconvert_exporter": "python",
      "pygments_lexer": "ipython3",
      "version": "3.11.2"
    }
  },
  "nbformat": 4,
  "nbformat_minor": 0
}
